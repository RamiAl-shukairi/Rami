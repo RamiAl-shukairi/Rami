{
 "cells": [
  {
   "cell_type": "code",
   "execution_count": 3,
   "id": "20ebc569",
   "metadata": {},
   "outputs": [
    {
     "name": "stdout",
     "output_type": "stream",
     "text": [
      "    Rk            Squad  MP   W   D   L  GF  GA  GD  Pts  Pts/MP    xG   xGA  \\\n",
      "0    1  Manchester City  38  28   5   5  94  33  61   89    2.34  78.7  32.1   \n",
      "1    2          Arsenal  38  26   6   6  88  43  45   84    2.21  71.9  42.0   \n",
      "2    3   Manchester Utd  38  23   6   9  58  43  15   75    1.97  67.7  50.4   \n",
      "3    4    Newcastle Utd  38  19  14   5  68  33  35   71    1.87  72.0  39.6   \n",
      "4    5        Liverpool  38  19  10   9  75  47  28   67    1.76  72.6  50.9   \n",
      "5    6         Brighton  38  18   8  12  72  53  19   62    1.63  73.3  50.2   \n",
      "6    7      Aston Villa  38  18   7  13  51  46   5   61    1.61  50.2  52.5   \n",
      "7    8        Tottenham  38  18   6  14  70  63   7   60    1.58  57.1  49.7   \n",
      "8    9        Brentford  38  15  14   9  58  46  12   59    1.55  56.8  49.9   \n",
      "9   10           Fulham  38  15   7  16  55  53   2   52    1.37  46.2  63.8   \n",
      "10  11   Crystal Palace  38  11  12  15  40  49  -9   45    1.18  39.3  48.1   \n",
      "11  12          Chelsea  38  11  11  16  38  47  -9   44    1.16  49.5  52.5   \n",
      "12  13           Wolves  38  11   8  19  31  58 -27   41    1.08  36.8  59.9   \n",
      "13  14         West Ham  38  11   7  20  42  55 -13   40    1.05  49.2  53.0   \n",
      "14  15      Bournemouth  38  11   6  21  37  71 -34   39    1.03  38.6  63.9   \n",
      "15  16  Nott'ham Forest  38   9  11  18  38  68 -30   38    1.00  39.3  64.2   \n",
      "16  17          Everton  38   8  12  18  34  57 -23   36    0.95  45.2  65.7   \n",
      "17  18   Leicester City  38   9   7  22  51  68 -17   34    0.89  50.6  63.4   \n",
      "18  19     Leeds United  38   7  10  21  48  78 -30   31    0.82  47.4  67.2   \n",
      "19  20      Southampton  38   6   7  25  36  73 -37   25    0.66  37.7  61.0   \n",
      "\n",
      "     xGD  xGD/90  Attendance                   Top Team Scorer  \\\n",
      "0   46.6    1.23       53249               Erling Haaland - 36   \n",
      "1   29.9    0.79       60191  Martin Ødegaard, Martinelli - 15   \n",
      "2   17.3    0.45       73671              Marcus Rashford - 17   \n",
      "3   32.4    0.85       52127                Callum Wilson - 18   \n",
      "4   21.7    0.57       53163                Mohamed Salah - 19   \n",
      "5   23.1    0.61       31477          Alexis Mac Allister - 10   \n",
      "6   -2.2   -0.06       39485                Ollie Watkins - 15   \n",
      "7    7.4    0.20       61585                   Harry Kane - 30   \n",
      "8    6.8    0.18       17078                   Ivan Toney - 20   \n",
      "9  -17.6   -0.46       23746          Aleksandar Mitrović - 14   \n",
      "10  -8.8   -0.23       24952                 Eberechi Eze - 10   \n",
      "11  -3.0   -0.08       40002                   Kai Havertz - 7   \n",
      "12 -23.1   -0.61       31482   Rúben Neves, Daniel Podence - 6   \n",
      "13  -3.9   -0.10       62462   Saïd Benrahma, Jarrod Bowen - 6   \n",
      "14 -25.3   -0.67       10362                Philip Billing - 7   \n",
      "15 -24.9   -0.66       29188                Taiwo Awoniyi - 10   \n",
      "16 -20.5   -0.54       39243                 Dwight McNeil - 7   \n",
      "17 -12.8   -0.34       31887                Harvey Barnes - 13   \n",
      "18 -19.8   -0.52       36566                      Rodrigo - 13   \n",
      "19 -23.3   -0.61       30440             James Ward-Prowse - 9   \n",
      "\n",
      "           Goalkeeper                                         Notes  \n",
      "0             Ederson          → Champions League via league finish  \n",
      "1      Aaron Ramsdale          → Champions League via league finish  \n",
      "2        David de Gea          → Champions League via league finish  \n",
      "3           Nick Pope          → Champions League via league finish  \n",
      "4             Alisson             → Europa League via league finish  \n",
      "5      Robert Sanchez             → Europa League via league finish  \n",
      "6   Emiliano Martínez  → Europa Conference League via league finish  \n",
      "7         Hugo Lloris                                           NaN  \n",
      "8          David Raya                                           NaN  \n",
      "9          Bernd Leno                                           NaN  \n",
      "10     Vicente Guaita                                           NaN  \n",
      "11  Kepa Arrizabalaga                                           NaN  \n",
      "12            José Sá                                           NaN  \n",
      "13   Łukasz Fabiański                                           NaN  \n",
      "14               Neto                                           NaN  \n",
      "15     Dean Henderson                                           NaN  \n",
      "16    Jordan Pickford                                           NaN  \n",
      "17         Danny Ward                                     Relegated  \n",
      "18      Illan Meslier                                     Relegated  \n",
      "19       Gavin Bazunu                                     Relegated  \n"
     ]
    }
   ],
   "source": [
    "# Importing pandas\n",
    "import pandas as pd\n",
    "\n",
    "# The webpage URL whose table we want to extract\n",
    "url = \"https://fbref.com/en/comps/9/2022-2023/2022-2023-Premier-League-Stats\"\n",
    "\n",
    "# Assign the table data to a Pandas dataframe\n",
    "table = pd.read_html(url)[0]\n",
    "\n",
    "# Print the dataframe\n",
    "print(table)"
   ]
  },
  {
   "cell_type": "code",
   "execution_count": 5,
   "id": "127c8943",
   "metadata": {},
   "outputs": [],
   "source": [
    "# Store the dataframe in Excel file\n",
    "table.to_excel(\"data2.xlsx\")"
   ]
  },
  {
   "cell_type": "code",
   "execution_count": null,
   "id": "4f3097bc",
   "metadata": {},
   "outputs": [],
   "source": []
  }
 ],
 "metadata": {
  "kernelspec": {
   "display_name": "Python 3 (ipykernel)",
   "language": "python",
   "name": "python3"
  },
  "language_info": {
   "codemirror_mode": {
    "name": "ipython",
    "version": 3
   },
   "file_extension": ".py",
   "mimetype": "text/x-python",
   "name": "python",
   "nbconvert_exporter": "python",
   "pygments_lexer": "ipython3",
   "version": "3.9.12"
  }
 },
 "nbformat": 4,
 "nbformat_minor": 5
}
